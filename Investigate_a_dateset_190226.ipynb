{
 "cells": [
  {
   "cell_type": "markdown",
   "metadata": {},
   "source": [
    "# Project: Investigating a TMDb database: Q&A of a moviemaniac!\n",
    "\n",
    "## Table of Contents\n",
    "<ul>\n",
    "<li><a href=\"#intro\">Introduction</a></li>\n",
    "<li><a href=\"#wrangling\">Data Wrangling</a></li>\n",
    "<li><a href=\"#eda\">Exploratory Data Analysis</a></li>\n",
    "<li><a href=\"#conclusions\">Conclusions</a></li>\n",
    "</ul>"
   ]
  },
  {
   "cell_type": "markdown",
   "metadata": {},
   "source": [
    "<a id='intro'></a>\n",
    "## Introduction\n",
    "\n",
    "I'm interested in movies, so I've chosen the movie database. Although my favorite part is just sit back and relax, in this case what I'm interested in is the economic success of specific producers, actors, etc.\n",
    "\n",
    "What I want to get from the data is the answers to the following:\n",
    "\n",
    " 1) Which director can be named the best, when it comes to both financial success and popularity? I want this to be answered decade-wise, e.g. 60'ties, 70'ties, etc. all the way to the 21st century.\n",
    " \n",
    " 2) Is there a correlation between budget and popularity, i.e. are better funded movies necessarily popular?\n",
    "\n",
    " 3) How many movies did actorsplay in in the last 15 years?\n",
    "\n",
    " 4) Considering TOP 100 actors who played in the most films, is there a correlation between their busy-ness and budget, i.e. do they tend to choose better paid productions?"
   ]
  },
  {
   "cell_type": "code",
   "execution_count": 1,
   "metadata": {
    "collapsed": true,
    "scrolled": true
   },
   "outputs": [],
   "source": [
    "import numpy as np\n",
    "import matplotlib.pyplot as plt\n",
    "import pandas as pd\n",
    "import collections as cls\n",
    "%matplotlib inline"
   ]
  },
  {
   "cell_type": "markdown",
   "metadata": {},
   "source": [
    "<a id='wrangling'></a>\n",
    "## Data Wrangling\n",
    "\n",
    "### General Properties"
   ]
  },
  {
   "cell_type": "code",
   "execution_count": 2,
   "metadata": {},
   "outputs": [
    {
     "data": {
      "text/html": [
       "<div>\n",
       "<style scoped>\n",
       "    .dataframe tbody tr th:only-of-type {\n",
       "        vertical-align: middle;\n",
       "    }\n",
       "\n",
       "    .dataframe tbody tr th {\n",
       "        vertical-align: top;\n",
       "    }\n",
       "\n",
       "    .dataframe thead th {\n",
       "        text-align: right;\n",
       "    }\n",
       "</style>\n",
       "<table border=\"1\" class=\"dataframe\">\n",
       "  <thead>\n",
       "    <tr style=\"text-align: right;\">\n",
       "      <th></th>\n",
       "      <th>id</th>\n",
       "      <th>imdb_id</th>\n",
       "      <th>popularity</th>\n",
       "      <th>budget</th>\n",
       "      <th>revenue</th>\n",
       "      <th>original_title</th>\n",
       "      <th>cast</th>\n",
       "      <th>homepage</th>\n",
       "      <th>director</th>\n",
       "      <th>tagline</th>\n",
       "      <th>...</th>\n",
       "      <th>overview</th>\n",
       "      <th>runtime</th>\n",
       "      <th>genres</th>\n",
       "      <th>production_companies</th>\n",
       "      <th>release_date</th>\n",
       "      <th>vote_count</th>\n",
       "      <th>vote_average</th>\n",
       "      <th>release_year</th>\n",
       "      <th>budget_adj</th>\n",
       "      <th>revenue_adj</th>\n",
       "    </tr>\n",
       "  </thead>\n",
       "  <tbody>\n",
       "    <tr>\n",
       "      <th>0</th>\n",
       "      <td>135397</td>\n",
       "      <td>tt0369610</td>\n",
       "      <td>32.985763</td>\n",
       "      <td>150000000</td>\n",
       "      <td>1513528810</td>\n",
       "      <td>Jurassic World</td>\n",
       "      <td>Chris Pratt|Bryce Dallas Howard|Irrfan Khan|Vi...</td>\n",
       "      <td>http://www.jurassicworld.com/</td>\n",
       "      <td>Colin Trevorrow</td>\n",
       "      <td>The park is open.</td>\n",
       "      <td>...</td>\n",
       "      <td>Twenty-two years after the events of Jurassic ...</td>\n",
       "      <td>124</td>\n",
       "      <td>Action|Adventure|Science Fiction|Thriller</td>\n",
       "      <td>Universal Studios|Amblin Entertainment|Legenda...</td>\n",
       "      <td>6/9/15</td>\n",
       "      <td>5562</td>\n",
       "      <td>6.5</td>\n",
       "      <td>2015</td>\n",
       "      <td>1.379999e+08</td>\n",
       "      <td>1.392446e+09</td>\n",
       "    </tr>\n",
       "    <tr>\n",
       "      <th>1</th>\n",
       "      <td>76341</td>\n",
       "      <td>tt1392190</td>\n",
       "      <td>28.419936</td>\n",
       "      <td>150000000</td>\n",
       "      <td>378436354</td>\n",
       "      <td>Mad Max: Fury Road</td>\n",
       "      <td>Tom Hardy|Charlize Theron|Hugh Keays-Byrne|Nic...</td>\n",
       "      <td>http://www.madmaxmovie.com/</td>\n",
       "      <td>George Miller</td>\n",
       "      <td>What a Lovely Day.</td>\n",
       "      <td>...</td>\n",
       "      <td>An apocalyptic story set in the furthest reach...</td>\n",
       "      <td>120</td>\n",
       "      <td>Action|Adventure|Science Fiction|Thriller</td>\n",
       "      <td>Village Roadshow Pictures|Kennedy Miller Produ...</td>\n",
       "      <td>5/13/15</td>\n",
       "      <td>6185</td>\n",
       "      <td>7.1</td>\n",
       "      <td>2015</td>\n",
       "      <td>1.379999e+08</td>\n",
       "      <td>3.481613e+08</td>\n",
       "    </tr>\n",
       "    <tr>\n",
       "      <th>2</th>\n",
       "      <td>262500</td>\n",
       "      <td>tt2908446</td>\n",
       "      <td>13.112507</td>\n",
       "      <td>110000000</td>\n",
       "      <td>295238201</td>\n",
       "      <td>Insurgent</td>\n",
       "      <td>Shailene Woodley|Theo James|Kate Winslet|Ansel...</td>\n",
       "      <td>http://www.thedivergentseries.movie/#insurgent</td>\n",
       "      <td>Robert Schwentke</td>\n",
       "      <td>One Choice Can Destroy You</td>\n",
       "      <td>...</td>\n",
       "      <td>Beatrice Prior must confront her inner demons ...</td>\n",
       "      <td>119</td>\n",
       "      <td>Adventure|Science Fiction|Thriller</td>\n",
       "      <td>Summit Entertainment|Mandeville Films|Red Wago...</td>\n",
       "      <td>3/18/15</td>\n",
       "      <td>2480</td>\n",
       "      <td>6.3</td>\n",
       "      <td>2015</td>\n",
       "      <td>1.012000e+08</td>\n",
       "      <td>2.716190e+08</td>\n",
       "    </tr>\n",
       "  </tbody>\n",
       "</table>\n",
       "<p>3 rows × 21 columns</p>\n",
       "</div>"
      ],
      "text/plain": [
       "       id    imdb_id  popularity     budget     revenue      original_title  \\\n",
       "0  135397  tt0369610   32.985763  150000000  1513528810      Jurassic World   \n",
       "1   76341  tt1392190   28.419936  150000000   378436354  Mad Max: Fury Road   \n",
       "2  262500  tt2908446   13.112507  110000000   295238201           Insurgent   \n",
       "\n",
       "                                                cast  \\\n",
       "0  Chris Pratt|Bryce Dallas Howard|Irrfan Khan|Vi...   \n",
       "1  Tom Hardy|Charlize Theron|Hugh Keays-Byrne|Nic...   \n",
       "2  Shailene Woodley|Theo James|Kate Winslet|Ansel...   \n",
       "\n",
       "                                         homepage          director  \\\n",
       "0                   http://www.jurassicworld.com/   Colin Trevorrow   \n",
       "1                     http://www.madmaxmovie.com/     George Miller   \n",
       "2  http://www.thedivergentseries.movie/#insurgent  Robert Schwentke   \n",
       "\n",
       "                      tagline      ...       \\\n",
       "0           The park is open.      ...        \n",
       "1          What a Lovely Day.      ...        \n",
       "2  One Choice Can Destroy You      ...        \n",
       "\n",
       "                                            overview runtime  \\\n",
       "0  Twenty-two years after the events of Jurassic ...     124   \n",
       "1  An apocalyptic story set in the furthest reach...     120   \n",
       "2  Beatrice Prior must confront her inner demons ...     119   \n",
       "\n",
       "                                      genres  \\\n",
       "0  Action|Adventure|Science Fiction|Thriller   \n",
       "1  Action|Adventure|Science Fiction|Thriller   \n",
       "2         Adventure|Science Fiction|Thriller   \n",
       "\n",
       "                                production_companies release_date vote_count  \\\n",
       "0  Universal Studios|Amblin Entertainment|Legenda...       6/9/15       5562   \n",
       "1  Village Roadshow Pictures|Kennedy Miller Produ...      5/13/15       6185   \n",
       "2  Summit Entertainment|Mandeville Films|Red Wago...      3/18/15       2480   \n",
       "\n",
       "   vote_average  release_year    budget_adj   revenue_adj  \n",
       "0           6.5          2015  1.379999e+08  1.392446e+09  \n",
       "1           7.1          2015  1.379999e+08  3.481613e+08  \n",
       "2           6.3          2015  1.012000e+08  2.716190e+08  \n",
       "\n",
       "[3 rows x 21 columns]"
      ]
     },
     "execution_count": 2,
     "metadata": {},
     "output_type": "execute_result"
    }
   ],
   "source": [
    "# Load your data and print out a few lines. Perform operations to inspect data\n",
    "# types and look for instances of missing or possibly errant data.\n",
    "\n",
    "movies = pd.read_csv(\"tmdb-movies.csv\")\n",
    "movies.head(3)"
   ]
  },
  {
   "cell_type": "code",
   "execution_count": 3,
   "metadata": {},
   "outputs": [
    {
     "data": {
      "text/html": [
       "<div>\n",
       "<style scoped>\n",
       "    .dataframe tbody tr th:only-of-type {\n",
       "        vertical-align: middle;\n",
       "    }\n",
       "\n",
       "    .dataframe tbody tr th {\n",
       "        vertical-align: top;\n",
       "    }\n",
       "\n",
       "    .dataframe thead th {\n",
       "        text-align: right;\n",
       "    }\n",
       "</style>\n",
       "<table border=\"1\" class=\"dataframe\">\n",
       "  <thead>\n",
       "    <tr style=\"text-align: right;\">\n",
       "      <th></th>\n",
       "      <th>id</th>\n",
       "      <th>popularity</th>\n",
       "      <th>budget</th>\n",
       "      <th>revenue</th>\n",
       "      <th>original_title</th>\n",
       "      <th>cast</th>\n",
       "      <th>director</th>\n",
       "      <th>runtime</th>\n",
       "      <th>genres</th>\n",
       "      <th>production_companies</th>\n",
       "      <th>release_year</th>\n",
       "    </tr>\n",
       "  </thead>\n",
       "  <tbody>\n",
       "    <tr>\n",
       "      <th>0</th>\n",
       "      <td>135397</td>\n",
       "      <td>32.985763</td>\n",
       "      <td>150000000</td>\n",
       "      <td>1513528810</td>\n",
       "      <td>Jurassic World</td>\n",
       "      <td>Chris Pratt|Bryce Dallas Howard|Irrfan Khan|Vi...</td>\n",
       "      <td>Colin Trevorrow</td>\n",
       "      <td>124</td>\n",
       "      <td>Action|Adventure|Science Fiction|Thriller</td>\n",
       "      <td>Universal Studios|Amblin Entertainment|Legenda...</td>\n",
       "      <td>2015</td>\n",
       "    </tr>\n",
       "    <tr>\n",
       "      <th>1</th>\n",
       "      <td>76341</td>\n",
       "      <td>28.419936</td>\n",
       "      <td>150000000</td>\n",
       "      <td>378436354</td>\n",
       "      <td>Mad Max: Fury Road</td>\n",
       "      <td>Tom Hardy|Charlize Theron|Hugh Keays-Byrne|Nic...</td>\n",
       "      <td>George Miller</td>\n",
       "      <td>120</td>\n",
       "      <td>Action|Adventure|Science Fiction|Thriller</td>\n",
       "      <td>Village Roadshow Pictures|Kennedy Miller Produ...</td>\n",
       "      <td>2015</td>\n",
       "    </tr>\n",
       "    <tr>\n",
       "      <th>2</th>\n",
       "      <td>262500</td>\n",
       "      <td>13.112507</td>\n",
       "      <td>110000000</td>\n",
       "      <td>295238201</td>\n",
       "      <td>Insurgent</td>\n",
       "      <td>Shailene Woodley|Theo James|Kate Winslet|Ansel...</td>\n",
       "      <td>Robert Schwentke</td>\n",
       "      <td>119</td>\n",
       "      <td>Adventure|Science Fiction|Thriller</td>\n",
       "      <td>Summit Entertainment|Mandeville Films|Red Wago...</td>\n",
       "      <td>2015</td>\n",
       "    </tr>\n",
       "  </tbody>\n",
       "</table>\n",
       "</div>"
      ],
      "text/plain": [
       "       id  popularity     budget     revenue      original_title  \\\n",
       "0  135397   32.985763  150000000  1513528810      Jurassic World   \n",
       "1   76341   28.419936  150000000   378436354  Mad Max: Fury Road   \n",
       "2  262500   13.112507  110000000   295238201           Insurgent   \n",
       "\n",
       "                                                cast          director  \\\n",
       "0  Chris Pratt|Bryce Dallas Howard|Irrfan Khan|Vi...   Colin Trevorrow   \n",
       "1  Tom Hardy|Charlize Theron|Hugh Keays-Byrne|Nic...     George Miller   \n",
       "2  Shailene Woodley|Theo James|Kate Winslet|Ansel...  Robert Schwentke   \n",
       "\n",
       "   runtime                                     genres  \\\n",
       "0      124  Action|Adventure|Science Fiction|Thriller   \n",
       "1      120  Action|Adventure|Science Fiction|Thriller   \n",
       "2      119         Adventure|Science Fiction|Thriller   \n",
       "\n",
       "                                production_companies  release_year  \n",
       "0  Universal Studios|Amblin Entertainment|Legenda...          2015  \n",
       "1  Village Roadshow Pictures|Kennedy Miller Produ...          2015  \n",
       "2  Summit Entertainment|Mandeville Films|Red Wago...          2015  "
      ]
     },
     "execution_count": 3,
     "metadata": {},
     "output_type": "execute_result"
    }
   ],
   "source": [
    "# Keep the interesting part: id, popularity, budget, revenue, original_title, cast, director,\n",
    "# genres, production_companies, release_year\n",
    "movies = movies[['id', 'popularity', 'budget', 'revenue', 'original_title', 'cast', 'director',\n",
    "                 'runtime', 'genres', 'production_companies', 'release_year']]\n",
    "movies.head(3)"
   ]
  },
  {
   "cell_type": "code",
   "execution_count": 4,
   "metadata": {},
   "outputs": [
    {
     "name": "stdout",
     "output_type": "stream",
     "text": [
      "<class 'pandas.core.frame.DataFrame'>\n",
      "Int64Index: 10865 entries, 0 to 10865\n",
      "Data columns (total 11 columns):\n",
      "id                      10865 non-null int64\n",
      "popularity              10865 non-null float64\n",
      "budget                  10865 non-null int64\n",
      "revenue                 10865 non-null int64\n",
      "original_title          10865 non-null object\n",
      "cast                    10789 non-null object\n",
      "director                10821 non-null object\n",
      "runtime                 10865 non-null int64\n",
      "genres                  10842 non-null object\n",
      "production_companies    9835 non-null object\n",
      "release_year            10865 non-null int64\n",
      "dtypes: float64(1), int64(5), object(5)\n",
      "memory usage: 1018.6+ KB\n"
     ]
    }
   ],
   "source": [
    "# Check for nulls and inspect data types\n",
    "movies_d = movies.drop_duplicates(subset='id', inplace=False)\n",
    "movies_d.info()"
   ]
  },
  {
   "cell_type": "markdown",
   "metadata": {},
   "source": [
    "It looks good. There aren't many null data, so there will be much data to work on.\n",
    "There are only 3 data types in the dataset: integers, float and strings (a.k.a. objects)"
   ]
  },
  {
   "cell_type": "code",
   "execution_count": 5,
   "metadata": {},
   "outputs": [
    {
     "name": "stdout",
     "output_type": "stream",
     "text": [
      "Unrealistic data: \n",
      " zero budget (5696), \n",
      " zero revenue (6016), \n",
      " zero runtime (31), \n",
      " zeroth release_year (0)\n"
     ]
    }
   ],
   "source": [
    "# There may still lurk unrealistic data, e.g. 0 budget. All integer data ('id' excluded) should be checked for that.\n",
    "zero_budget = (movies_d.budget == 0).sum()\n",
    "zero_revenue = (movies_d.revenue == 0).sum()\n",
    "zero_runtime = (movies_d.runtime == 0).sum()\n",
    "zeroth_release_year = (movies_d.release_year == 0).sum()\n",
    "print('Unrealistic data: \\n zero budget ({}), \\n zero revenue ({}), \\n zero runtime ({}), \\n zeroth release_year ({})'.format(zero_budget, zero_revenue, zero_runtime, zeroth_release_year))"
   ]
  },
  {
   "cell_type": "markdown",
   "metadata": {},
   "source": [
    "> The above values should be taken into account when answering a question of interest. For the sake of keeping the subset as big as possible, I've decided to prepare 4 datasets trimmed specifically for the purpose of each question. In some cases the zero values in budget, revenue and runtime were not taken into account. That way the set could be as large as ca. 10000 values. In others however both were needed, making the subset smaller - ca. 4500 values.\n",
    "\n",
    "> The next section describes the questions posed and which data should be included in the subset."
   ]
  },
  {
   "cell_type": "markdown",
   "metadata": {},
   "source": [
    "### Data Cleaning - preparation of cleaned data subsets"
   ]
  },
  {
   "cell_type": "markdown",
   "metadata": {},
   "source": [
    "#### Preparation of 4 subsets, each cleaned and trimmed to maximize the sample size and increase clarity.\n",
    "\n",
    "1) Which director and what movie can be named the best of the decade, when it comes to both financial success and popularity? I want this to be answered decade-wise, e.g. 60'ties, 70'ties, etc. all the way to the 21st century.\n",
    "\n",
    " Subset_1: director, original_title, popularity, budget, revenue, id, release_year\n",
    "\n",
    "\n",
    "2) Is there a correlation between budget and popularity, i.e. are better funded movies necessarily popular?\n",
    "\n",
    " Subset_2: budget, popularity, id\n",
    "\n",
    "\n",
    "3) How many movies did actors play in in the last 15 years?\n",
    "\n",
    " Subset_3: id, cast, year\n",
    "\n",
    "\n",
    "4) Considering TOP 15 actors from question 3, do they tend to choose better paid productions? (I will take a look into the entire history, not just the 15 years they were the bussiest)\n",
    "\n",
    " Data needed:\n",
    "  - Subset_3 (list of 15 most frequently performing actors)\n",
    "  - Subset_4 consisting of: id, cast, budget"
   ]
  },
  {
   "cell_type": "code",
   "execution_count": 6,
   "metadata": {},
   "outputs": [
    {
     "name": "stdout",
     "output_type": "stream",
     "text": [
      "<class 'pandas.core.frame.DataFrame'>\n",
      "RangeIndex: 3853 entries, 0 to 3852\n",
      "Data columns (total 9 columns):\n",
      "index             3853 non-null int64\n",
      "director          3853 non-null object\n",
      "original_title    3853 non-null object\n",
      "popularity        3853 non-null float64\n",
      "budget            3853 non-null int64\n",
      "revenue           3853 non-null int64\n",
      "id                3853 non-null int64\n",
      "release_year      3853 non-null int64\n",
      "ROI               3853 non-null float64\n",
      "dtypes: float64(2), int64(5), object(2)\n",
      "memory usage: 271.0+ KB\n"
     ]
    }
   ],
   "source": [
    "# Computing subset_1\n",
    "\n",
    "Subset_1 = movies[['director', 'original_title', 'popularity', 'budget', 'revenue', 'id', 'release_year']]\n",
    "\n",
    "# Get rid of duplicates\n",
    "Subset_1 = Subset_1.drop_duplicates()\n",
    "\n",
    "# Drop null values\n",
    "Subset_1 = Subset_1.dropna()\n",
    "\n",
    "# Get rid of unrelistic data\n",
    "Subset_1 = Subset_1.query('(budget > 0) & (revenue > 0)')\n",
    "\n",
    "# Reset index\n",
    "Subset_1 = Subset_1.reset_index()\n",
    "\n",
    "# Create a ROI (Return of Investment) column\n",
    "Subset_1['ROI'] = round((Subset_1.revenue - Subset_1.budget)/Subset_1.budget, 2)\n",
    "\n",
    "# Double-check if the data looks good\n",
    "Subset_1.info()"
   ]
  },
  {
   "cell_type": "code",
   "execution_count": 7,
   "metadata": {},
   "outputs": [
    {
     "name": "stdout",
     "output_type": "stream",
     "text": [
      "<class 'pandas.core.frame.DataFrame'>\n",
      "RangeIndex: 5169 entries, 0 to 5168\n",
      "Data columns (total 4 columns):\n",
      "index         5169 non-null int64\n",
      "budget        5169 non-null int64\n",
      "popularity    5169 non-null float64\n",
      "id            5169 non-null int64\n",
      "dtypes: float64(1), int64(3)\n",
      "memory usage: 161.6 KB\n"
     ]
    }
   ],
   "source": [
    "# Computing Subset_2\n",
    "\n",
    "Subset_2 = movies[['budget', 'popularity', 'id']]\n",
    "\n",
    "# Get rid of duplicates\n",
    "Subset_2 = Subset_2.drop_duplicates()\n",
    "\n",
    "# Drop null values\n",
    "Subset_2 = Subset_2.dropna()\n",
    "\n",
    "# Get rid of unrelistic data\n",
    "Subset_2 = Subset_2[Subset_2.budget > 0]\n",
    "\n",
    "# Reset index\n",
    "Subset_2 = Subset_2.reset_index()\n",
    "\n",
    "# Double-check if the data looks good\n",
    "Subset_2.info()"
   ]
  },
  {
   "cell_type": "code",
   "execution_count": 8,
   "metadata": {},
   "outputs": [
    {
     "name": "stdout",
     "output_type": "stream",
     "text": [
      "<class 'pandas.core.frame.DataFrame'>\n",
      "RangeIndex: 10789 entries, 0 to 10788\n",
      "Data columns (total 4 columns):\n",
      "index           10789 non-null int64\n",
      "cast            10789 non-null object\n",
      "release_year    10789 non-null int64\n",
      "id              10789 non-null int64\n",
      "dtypes: int64(3), object(1)\n",
      "memory usage: 337.2+ KB\n"
     ]
    }
   ],
   "source": [
    "# Computing Subset_3\n",
    "\n",
    "Subset_3 = movies[['cast', 'release_year', 'id']]\n",
    "\n",
    "# Get rid of duplicates\n",
    "Subset_3 = Subset_3.drop_duplicates()\n",
    "\n",
    "# Drop null values\n",
    "Subset_3 = Subset_3.dropna()\n",
    "\n",
    "# Reset index\n",
    "Subset_3 = Subset_3.reset_index()\n",
    "\n",
    "# Double-check if the data looks good\n",
    "Subset_3.info()"
   ]
  },
  {
   "cell_type": "code",
   "execution_count": 9,
   "metadata": {},
   "outputs": [
    {
     "name": "stdout",
     "output_type": "stream",
     "text": [
      "<class 'pandas.core.frame.DataFrame'>\n",
      "RangeIndex: 5158 entries, 0 to 5157\n",
      "Data columns (total 4 columns):\n",
      "index     5158 non-null int64\n",
      "budget    5158 non-null int64\n",
      "cast      5158 non-null object\n",
      "id        5158 non-null int64\n",
      "dtypes: int64(3), object(1)\n",
      "memory usage: 161.3+ KB\n"
     ]
    }
   ],
   "source": [
    "# Create Subset_4\n",
    "Subset_4 = movies[['budget', 'cast', 'id']]\n",
    "\n",
    "# Get rid of duplicates\n",
    "Subset_4 = Subset_4.drop_duplicates()\n",
    "\n",
    "# Drop null values\n",
    "Subset_4 = Subset_4.dropna()\n",
    "\n",
    "# Get rid of unrelistic data\n",
    "Subset_4 = Subset_4[Subset_4.budget > 0]\n",
    "\n",
    "# Reset index\n",
    "Subset_4 = Subset_4.reset_index()\n",
    "\n",
    "# Double-check if the data looks good\n",
    "Subset_4.info()"
   ]
  },
  {
   "cell_type": "markdown",
   "metadata": {},
   "source": [
    "<a id='eda'></a>\n",
    "## Exploratory Data Analysis\n",
    "\n",
    "### Which director and what movie can be named the best of the decade, when it comes to both financial success and popularity? I want this to be answered decade-wise, e.g. 60'ties, 70'ties, etc. all the way to the 21st century."
   ]
  },
  {
   "cell_type": "code",
   "execution_count": 10,
   "metadata": {
    "collapsed": true
   },
   "outputs": [],
   "source": [
    "# Introduce a variable that will reflect simultaneously the financial and popularity success\n",
    "# FPI - Financial & Popularity Index\n",
    "# FPI = (Return of Investment)*Popularity / (10 yr max Return of Investment)*(10 yr max Popularity)\n",
    "# FPI index takes values from 0 (when popularity OR Return of Investment are 0)\n",
    "# to 1 (when popularity AND Return of Investment match the 10yr max values)\n",
    "\n",
    "\n",
    "Bulls_eye = pd.DataFrame()\n",
    "interval = 10\n",
    "\n",
    "# The oldest release year and decade\n",
    "minRY = min(Subset_1.release_year)\n",
    "minDec = round(minRY, -1) - interval\n",
    "\n",
    "# The latest release year and decade\n",
    "maxRY = max(Subset_1.release_year)\n",
    "maxDec = round(maxRY, -1)\n",
    "\n",
    "# Define the iteration range - number of intervals in the span between the first and last release year\n",
    "decade_range = int(round((maxDec - minDec)/interval, 0))\n",
    "\n",
    "mROI = max(Subset_1.ROI)\n",
    "mPop = max(Subset_1.popularity)\n",
    "Subset_1['FPI'] = (Subset_1.ROI * Subset_1.popularity) / (mROI * mPop)\n",
    "\n",
    "# Prepare empty lists for future columns\n",
    "Decade = []\n",
    "Release_year = []\n",
    "Director = []\n",
    "Title = []\n",
    "FPI_index = []\n",
    "\n",
    "for d in range(decade_range-1):\n",
    "    decade = minRY + d*interval\n",
    "    Sub = Subset_1[(Subset_1.release_year < (decade + interval)) & (Subset_1.release_year >= decade)]\n",
    "    Decade.append(decade)\n",
    "    Release_year.append((Sub.release_year[Sub.FPI == max(Sub.FPI)]).max())\n",
    "    Director.append((Sub.director[Sub.FPI == max(Sub.FPI)]).max())\n",
    "    Title.append((Sub.original_title[Sub.FPI == max(Sub.FPI)]).max())\n",
    "    FPI_index.append(round(max(Sub.FPI), 6))"
   ]
  },
  {
   "cell_type": "code",
   "execution_count": 11,
   "metadata": {},
   "outputs": [
    {
     "data": {
      "text/html": [
       "<div>\n",
       "<style scoped>\n",
       "    .dataframe tbody tr th:only-of-type {\n",
       "        vertical-align: middle;\n",
       "    }\n",
       "\n",
       "    .dataframe tbody tr th {\n",
       "        vertical-align: top;\n",
       "    }\n",
       "\n",
       "    .dataframe thead th {\n",
       "        text-align: right;\n",
       "    }\n",
       "</style>\n",
       "<table border=\"1\" class=\"dataframe\">\n",
       "  <thead>\n",
       "    <tr style=\"text-align: right;\">\n",
       "      <th></th>\n",
       "      <th>Decade</th>\n",
       "      <th>Release_year</th>\n",
       "      <th>Director</th>\n",
       "      <th>Title</th>\n",
       "      <th>FPI-index</th>\n",
       "    </tr>\n",
       "  </thead>\n",
       "  <tbody>\n",
       "    <tr>\n",
       "      <th>0</th>\n",
       "      <td>1960</td>\n",
       "      <td>1962</td>\n",
       "      <td>Terence Young</td>\n",
       "      <td>Dr. No</td>\n",
       "      <td>5e-06</td>\n",
       "    </tr>\n",
       "    <tr>\n",
       "      <th>1</th>\n",
       "      <td>1970</td>\n",
       "      <td>1977</td>\n",
       "      <td>George Lucas</td>\n",
       "      <td>Star Wars</td>\n",
       "      <td>2.5e-05</td>\n",
       "    </tr>\n",
       "    <tr>\n",
       "      <th>2</th>\n",
       "      <td>1980</td>\n",
       "      <td>1986</td>\n",
       "      <td>John G. Avildsen</td>\n",
       "      <td>The Karate Kid, Part II</td>\n",
       "      <td>0.023419</td>\n",
       "    </tr>\n",
       "    <tr>\n",
       "      <th>3</th>\n",
       "      <td>1990</td>\n",
       "      <td>1999</td>\n",
       "      <td>Daniel Myrick|Eduardo SÃ¡nchez</td>\n",
       "      <td>The Blair Witch Project</td>\n",
       "      <td>0.000276</td>\n",
       "    </tr>\n",
       "    <tr>\n",
       "      <th>4</th>\n",
       "      <td>2000</td>\n",
       "      <td>2007</td>\n",
       "      <td>Oren Peli</td>\n",
       "      <td>Paranormal Activity</td>\n",
       "      <td>0.00043</td>\n",
       "    </tr>\n",
       "    <tr>\n",
       "      <th>5</th>\n",
       "      <td>2010</td>\n",
       "      <td>2011</td>\n",
       "      <td>Angel Gracia</td>\n",
       "      <td>From Prada to Nada</td>\n",
       "      <td>0.000371</td>\n",
       "    </tr>\n",
       "  </tbody>\n",
       "</table>\n",
       "</div>"
      ],
      "text/plain": [
       "  Decade Release_year                        Director  \\\n",
       "0   1960         1962                   Terence Young   \n",
       "1   1970         1977                    George Lucas   \n",
       "2   1980         1986                John G. Avildsen   \n",
       "3   1990         1999  Daniel Myrick|Eduardo SÃ¡nchez   \n",
       "4   2000         2007                       Oren Peli   \n",
       "5   2010         2011                    Angel Gracia   \n",
       "\n",
       "                     Title FPI-index  \n",
       "0                   Dr. No     5e-06  \n",
       "1                Star Wars   2.5e-05  \n",
       "2  The Karate Kid, Part II  0.023419  \n",
       "3  The Blair Witch Project  0.000276  \n",
       "4      Paranormal Activity   0.00043  \n",
       "5       From Prada to Nada  0.000371  "
      ]
     },
     "execution_count": 11,
     "metadata": {},
     "output_type": "execute_result"
    }
   ],
   "source": [
    "# Prepare a table with results - stack the Decade, Director and FPI into one dataframe\n",
    "Bulls_eye = pd.DataFrame(np.column_stack([Decade, Release_year, Director, Title, FPI_index]), columns = ['Decade', 'Release_year', 'Director', 'Title', 'FPI-index'])\n",
    "Bulls_eye"
   ]
  },
  {
   "cell_type": "code",
   "execution_count": 41,
   "metadata": {},
   "outputs": [
    {
     "data": {
      "image/png": "[encoded data removed]",
      "text/plain": [
       "<matplotlib.figure.Figure at 0x7f136e23cb38>"
      ]
     },
     "metadata": {
      "needs_background": "light"
     },
     "output_type": "display_data"
    }
   ],
   "source": [
    "FPI_1 = plt.scatter(x=Subset_1.release_year, y=Subset_1.FPI, color='g', alpha=0.35);\n",
    "FPI_max = plt.scatter(x=Release_year, y=FPI_index, color='r');\n",
    "plt.yscale('log');\n",
    "plt.ylim(0.0000001, 0.1);\n",
    "plt.xlabel('Release year', size=15);\n",
    "plt.ylabel('FPI (Finance-Popularity Index)', size=15);\n",
    "plt.xticks(size=15);\n",
    "plt.yticks(size=15);\n",
    "plt.legend((FPI_1, FPI_max), ('FPI', \"Decade's largest FPI\"));\n",
    "plt.title(\"Finance-Popularity Index for movies released 1960-2015\" , y=1.07, size=20);"
   ]
  },
  {
   "cell_type": "markdown",
   "metadata": {},
   "source": [
    "### Is there a correlation between budget and popularity, i.e. are better funded movies necessarily popular?"
   ]
  },
  {
   "cell_type": "code",
   "execution_count": 56,
   "metadata": {},
   "outputs": [
    {
     "data": {
      "image/png": "[encoded data removed]",
      "text/plain": [
       "<matplotlib.figure.Figure at 0x7f136e6f6c18>"
      ]
     },
     "metadata": {
      "needs_background": "light"
     },
     "output_type": "display_data"
    }
   ],
   "source": [
    "# Continue to explore the data to address your additional research\n",
    "# questions. Add more headers as needed if you have more questions to\n",
    "# investigate.\n",
    "\n",
    "Second = plt.scatter(y=Subset_2.popularity, x=Subset_2.budget, c='g');\n",
    "plt.xscale('log');\n",
    "plt.xlabel('Budget in $', size=15);\n",
    "plt.ylabel('Popularity [a.u.]', size=15);\n",
    "plt.xticks(size=15);\n",
    "plt.yticks(size=15);\n",
    "plt.legend([\"TMDb movies (1960-2015)\"]);\n",
    "plt.title(\"Relation of film's popularity to its budget in $\" , y=1.07, size=20);"
   ]
  },
  {
   "cell_type": "markdown",
   "metadata": {},
   "source": [
    "### How many movies did actors play in in the last 15 years?"
   ]
  },
  {
   "cell_type": "code",
   "execution_count": 14,
   "metadata": {
    "collapsed": true
   },
   "outputs": [],
   "source": [
    "# Computing a dictionary of actors (and the number of films they starred in) for question #3\n",
    "\n",
    "Actors_count = {}\n",
    "Cast = []\n",
    "Cast_na = movies.cast.dropna().unique()\n",
    "for n in range(len(Cast_na)-1):\n",
    "    Cast_id = (Cast_na[n]).split(sep='|')\n",
    "    for j in Cast_id:\n",
    "        if j in Cast:\n",
    "            next\n",
    "        else:\n",
    "            Actors_count[j] = 0\n",
    "            \n",
    "# Count the number of films each actor played in the last 15 years\n",
    "Subset_3_15yrs = Subset_3.query('release_year >= 2000')\n",
    "Cast_15yrs = Subset_3_15yrs.cast.dropna().unique()\n",
    "\n",
    "for f in range(len(Cast_15yrs)-1):\n",
    "    Cast_id = (Cast_na[f]).split(sep='|')\n",
    "    for j in Cast_id:\n",
    "        Actors_count[j] += 1"
   ]
  },
  {
   "cell_type": "code",
   "execution_count": 15,
   "metadata": {},
   "outputs": [
    {
     "name": "stdout",
     "output_type": "stream",
     "text": [
      "Mode:  1 \n",
      " Mean:  1.7982230166657904 \n",
      " Median:  1\n"
     ]
    }
   ],
   "source": [
    "# Compute the mean, mode and median of the number of movies actors played in the last 15 years.\n",
    "\n",
    "import statistics\n",
    "print('Mode: ',statistics.mode(list(Actors_count.values())),'\\n','Mean: ', statistics.mean(list(Actors_count.values())),'\\n','Median: ', statistics.median(list(Actors_count.values())))"
   ]
  },
  {
   "cell_type": "code",
   "execution_count": 58,
   "metadata": {},
   "outputs": [
    {
     "data": {
      "image/png": "[encoded data removed]",
      "text/plain": [
       "<matplotlib.figure.Figure at 0x7f136ea47b70>"
      ]
     },
     "metadata": {
      "needs_background": "light"
     },
     "output_type": "display_data"
    }
   ],
   "source": [
    "# Build a histogram to show the tendency in starring in films\n",
    "\n",
    "plt.hist(Actors_count.values(), color='g', bins=50);\n",
    "plt.xlabel('The number of films (actors starred in)', size=15);\n",
    "plt.ylabel('The number of actors', size=15);\n",
    "plt.xticks(size=15);\n",
    "plt.yticks(size=15);\n",
    "plt.xlim(0,50);\n",
    "plt.legend([\"Movie stars (2000-2015)\"]);\n",
    "plt.title(\"Number of actors with a certain number of roles played (2000-2015)\" , y=1.07, size=20);"
   ]
  },
  {
   "cell_type": "markdown",
   "metadata": {},
   "source": [
    "### Considering TOP 15 actors from question 3, do they tend to choose better paid productions? (I will take a look into the entire history, not just the 15 years they were the bussiest)"
   ]
  },
  {
   "cell_type": "code",
   "execution_count": 17,
   "metadata": {},
   "outputs": [
    {
     "data": {
      "text/html": [
       "<div>\n",
       "<style scoped>\n",
       "    .dataframe tbody tr th:only-of-type {\n",
       "        vertical-align: middle;\n",
       "    }\n",
       "\n",
       "    .dataframe tbody tr th {\n",
       "        vertical-align: top;\n",
       "    }\n",
       "\n",
       "    .dataframe thead th {\n",
       "        text-align: right;\n",
       "    }\n",
       "</style>\n",
       "<table border=\"1\" class=\"dataframe\">\n",
       "  <thead>\n",
       "    <tr style=\"text-align: right;\">\n",
       "      <th></th>\n",
       "      <th>Actors</th>\n",
       "      <th>Movies_stared</th>\n",
       "    </tr>\n",
       "  </thead>\n",
       "  <tbody>\n",
       "    <tr>\n",
       "      <th>0</th>\n",
       "      <td>Samuel L. Jackson</td>\n",
       "      <td>47</td>\n",
       "    </tr>\n",
       "    <tr>\n",
       "      <th>1</th>\n",
       "      <td>Robert De Niro</td>\n",
       "      <td>40</td>\n",
       "    </tr>\n",
       "    <tr>\n",
       "      <th>2</th>\n",
       "      <td>John Cusack</td>\n",
       "      <td>39</td>\n",
       "    </tr>\n",
       "    <tr>\n",
       "      <th>3</th>\n",
       "      <td>Bruce Willis</td>\n",
       "      <td>38</td>\n",
       "    </tr>\n",
       "    <tr>\n",
       "      <th>4</th>\n",
       "      <td>James Franco</td>\n",
       "      <td>38</td>\n",
       "    </tr>\n",
       "    <tr>\n",
       "      <th>5</th>\n",
       "      <td>Nicolas Cage</td>\n",
       "      <td>38</td>\n",
       "    </tr>\n",
       "    <tr>\n",
       "      <th>6</th>\n",
       "      <td>Julianne Moore</td>\n",
       "      <td>35</td>\n",
       "    </tr>\n",
       "    <tr>\n",
       "      <th>7</th>\n",
       "      <td>Ewan McGregor</td>\n",
       "      <td>34</td>\n",
       "    </tr>\n",
       "    <tr>\n",
       "      <th>8</th>\n",
       "      <td>Liam Neeson</td>\n",
       "      <td>33</td>\n",
       "    </tr>\n",
       "    <tr>\n",
       "      <th>9</th>\n",
       "      <td>Johnny Depp</td>\n",
       "      <td>33</td>\n",
       "    </tr>\n",
       "    <tr>\n",
       "      <th>10</th>\n",
       "      <td>Colin Farrell</td>\n",
       "      <td>32</td>\n",
       "    </tr>\n",
       "    <tr>\n",
       "      <th>11</th>\n",
       "      <td>Ray Liotta</td>\n",
       "      <td>32</td>\n",
       "    </tr>\n",
       "    <tr>\n",
       "      <th>12</th>\n",
       "      <td>Woody Harrelson</td>\n",
       "      <td>31</td>\n",
       "    </tr>\n",
       "    <tr>\n",
       "      <th>13</th>\n",
       "      <td>Guy Pearce</td>\n",
       "      <td>31</td>\n",
       "    </tr>\n",
       "    <tr>\n",
       "      <th>14</th>\n",
       "      <td>Antonio Banderas</td>\n",
       "      <td>31</td>\n",
       "    </tr>\n",
       "  </tbody>\n",
       "</table>\n",
       "</div>"
      ],
      "text/plain": [
       "               Actors  Movies_stared\n",
       "0   Samuel L. Jackson             47\n",
       "1      Robert De Niro             40\n",
       "2         John Cusack             39\n",
       "3        Bruce Willis             38\n",
       "4        James Franco             38\n",
       "5        Nicolas Cage             38\n",
       "6      Julianne Moore             35\n",
       "7       Ewan McGregor             34\n",
       "8         Liam Neeson             33\n",
       "9         Johnny Depp             33\n",
       "10      Colin Farrell             32\n",
       "11         Ray Liotta             32\n",
       "12    Woody Harrelson             31\n",
       "13         Guy Pearce             31\n",
       "14   Antonio Banderas             31"
      ]
     },
     "execution_count": 17,
     "metadata": {},
     "output_type": "execute_result"
    }
   ],
   "source": [
    "# Generate statistics to answer the question.\n",
    "\n",
    "# Get 15 highest scored Actors\n",
    "Actors_order = cls.OrderedDict(sorted(Actors_count.items(), key=lambda x: x[1], reverse=True))\n",
    "\n",
    "Akeys = list(Actors_order.keys())\n",
    "Avals = list(Actors_order.values())\n",
    "\n",
    "# Get the actual list of top 15 actors; \n",
    "TOP15_actors = Akeys[0:15]\n",
    "for k in range(15, len(Akeys)-1):\n",
    "    if Avals[k] < Avals[len(TOP15_actors)-1]:\n",
    "        break\n",
    "    else:\n",
    "        TOP15_actors.append(Akeys[k])\n",
    "\n",
    "# Get the count of the movies these top 15 stars played in the last 15 years\n",
    "TOP15_count = Avals[:(len(TOP15_actors))]\n",
    "\n",
    "TOP15 = pd.DataFrame()\n",
    "TOP15['Actors'] = TOP15_actors\n",
    "TOP15['Movies_stared'] = TOP15_count\n",
    "TOP15"
   ]
  },
  {
   "cell_type": "code",
   "execution_count": 18,
   "metadata": {
    "collapsed": true
   },
   "outputs": [],
   "source": [
    "# Filter Subset_4 using TOP15_actors list\n",
    "\n",
    "Actor_budget = {}\n",
    "for j in TOP15_actors:\n",
    "    Actor_budget[j] = []\n",
    "\n",
    "for g in range(Subset_4.shape[0]):\n",
    "    for actor in TOP15_actors:\n",
    "        if actor in Subset_4.cast[g]:\n",
    "            Actor_budget[actor].append(Subset_4.budget[g])"
   ]
  },
  {
   "cell_type": "code",
   "execution_count": 31,
   "metadata": {},
   "outputs": [
    {
     "data": {
      "image/png": "[encoded data removed]",
      "text/plain": [
       "<matplotlib.figure.Figure at 0x7f136e6f0f98>"
      ]
     },
     "metadata": {
      "needs_background": "light"
     },
     "output_type": "display_data"
    }
   ],
   "source": [
    "# Generate a handful of boxplots to better read the situation\n",
    "plt.boxplot(Actor_budget.values(), labels=Actor_budget.keys());\n",
    "plt.xticks(rotation=90, size=15);\n",
    "plt.yticks(size=15);\n",
    "plt.ylabel('Movie budget in $100mln', size=15);\n",
    "plt.title(\"Actor's choice of movie, based on budget\" , y=1.07, size=20);"
   ]
  },
  {
   "cell_type": "markdown",
   "metadata": {},
   "source": [
    "<a id='conclusions'></a>\n",
    "## Conclusions\n",
    "\n",
    "## General problems faced when dealing with the analysis\n",
    "> This concerns most of the Subsets and all questions posed, so I've decided to cram it into one paragraph. The existence of Nulls and duplicates is something I can live with - they did not pose too much of a problem to work with but indeed made the dataset very small in some cases. In my opinion, cutting the number of entries by half was a pain to look at - I like my data large when analysis is performed.\n",
    "> But above all I think it was the unrealistic and useless values meddled between the good ones, e.g. 0 runtime, 0 budget. These can be tricky to work with. I've filtered the obvious ones, e.g. runtime = 0 minutes, but there may be many others, difficult to deal with, e.g. budget <1000 dollars. What if those movies were shot with a low or extremely low budget? \"The Blair Witch Project\" is a good example of that - 25000 dollars. Thus, setting a proper low limit was definitely something I found challenging. And a bit distasteful, when a decision was to be made when not enough information was provided and the data was not to be trusted 50% of the time...\n",
    "\n",
    "### Question 1\n",
    "> This seems pretty reasonable - Dr. No, Karate Kid, Star Wars and The Blair Witch Project are awesome films and the ones that were engraved deep into the viewer minds. It's obvious they got into the top of their decade. It's interesting to see that the older films (from the 60'ties) were usually better at gaining a simultaneous financial and popularity success. Although there were relatively less movies in those days, there were many successful to Dr. No. The more we close in to the current millenium, the wider the FPI gap gets between good and poor movies. Moreover, the three hits: \"The Blair Witch Project\", \"Paranormal Activity\" and \"From Prada to Nada\" are way above all other movies. This suggests that in the 21st century we observe a tendency of making movies that are either:\n",
    "- popular but don't hit a high revenue (a niche),\n",
    "- hit a high revenue but are not that popular (cinema hits but not so fun to watch at home e.g. Avatar\n",
    "- are both unpopular and were a financial disaster\n",
    "\n",
    "### Question 2\n",
    "> There seems to be a tendency for films to gain more popularity when the budget is increased, but it's not that obvious. Having a small budget results usually in lower popularity but higher budget does not imply higher popularity. It mearly increases the chances of a bigger financial success.\n",
    "### Question 3\n",
    "> From the histogram we can coclude that a vast majority of actors played at most in 2 movies. There's a handful of names that hit above 30 movies (that's 2 movies per year!!!). The histogram is strongly right-skewed with a mode and median of 1 and a mean of 1.798.\n",
    "### Question 4\n",
    "> Samuel L. Jackson, Robert de Niro and John Cucack land on the podium... I'm glad at least one woman representative made it to the TOP15. Julianne Moore potrayed many great characters, FBI agent in Hannibal to name one. It's fairly obvious for the case of John Cusack and Ray Liotta - these guys tend to choose productions with a budget below 50mln dolars. It's more difficult to tell in other cases though... The TOP15 stars usually played in films with budgets below 100mln dollars, although tended to pick roles in films exceeding this value. A good example here is Johny Depp, who takes roles in movies with budget closing in to 400mln dollars! And there's Ray Liotta, who played exclusively in films with budget below 100mln dollars."
   ]
  },
  {
   "cell_type": "code",
   "execution_count": 60,
   "metadata": {},
   "outputs": [
    {
     "data": {
      "text/plain": [
       "0"
      ]
     },
     "execution_count": 60,
     "metadata": {},
     "output_type": "execute_result"
    }
   ],
   "source": [
    "from subprocess import call\n",
    "call(['python', '-m', 'nbconvert', 'Investigate_a_Dataset.ipynb'])"
   ]
  }
 ],
 "metadata": {
  "kernelspec": {
   "display_name": "Python 3",
   "language": "python",
   "name": "python3"
  },
  "language_info": {
   "codemirror_mode": {
    "name": "ipython",
    "version": 3
   },
   "file_extension": ".py",
   "mimetype": "text/x-python",
   "name": "python",
   "nbconvert_exporter": "python",
   "pygments_lexer": "ipython3",
   "version": "3.6.8"
  }
 },
 "nbformat": 4,
 "nbformat_minor": 2
}
